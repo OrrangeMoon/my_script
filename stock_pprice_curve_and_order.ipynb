{
  "cells": [
    {
      "cell_type": "markdown",
      "metadata": {
        "id": "view-in-github",
        "colab_type": "text"
      },
      "source": [
        "<a href=\"https://colab.research.google.com/github/OrrangeMoon/my_script/blob/main/stock_pprice_curve_and_order.ipynb\" target=\"_parent\"><img src=\"https://colab.research.google.com/assets/colab-badge.svg\" alt=\"Open In Colab\"/></a>"
      ]
    },
    {
      "cell_type": "markdown",
      "source": [
        "# READ\n"
      ],
      "metadata": {
        "id": "mBz9W0I5f2Tx"
      }
    },
    {
      "cell_type": "code",
      "execution_count": 4,
      "metadata": {
        "id": "eUdvkb4QaDzj"
      },
      "outputs": [],
      "source": [
        "################################################################################\n",
        "\n",
        "\n",
        "import csv\n",
        "# from BaseHTTPServer import BaseHTTPRequestHandler,HTTPServer\n",
        "import http.server\n",
        "import json\n",
        "import operator\n",
        "import os.path\n",
        "import re\n",
        "import threading\n",
        "from datetime import timedelta, datetime\n",
        "# from itertools import izip\n",
        "from random import normalvariate, random\n",
        "from socketserver import ThreadingMixIn\n",
        "\n",
        "import dateutil.parser\n",
        "\n",
        "################################################################################\n",
        "#\n",
        "\n",
        "\n",
        "\n",
        "\n",
        "\n"
      ]
    },
    {
      "cell_type": "markdown",
      "source": [
        "# Config"
      ],
      "metadata": {
        "id": "kroW8_JbgQX_"
      }
    },
    {
      "cell_type": "code",
      "source": [
        "# Config\n",
        "\n",
        "# Sim params\n",
        "\n",
        "REALTIME = True\n",
        "SIM_LENGTH = timedelta(days=365 * 5)\n",
        "MARKET_OPEN = datetime.today().replace(hour=0, minute=30, second=0)\n",
        "\n",
        "# Market parms\n",
        "#       min  / max  / std\n",
        "#SPD = (2.0, 6.0, 0.1)\n",
        "PX = (60.0, 150.0, 1)\n",
        "FREQ = (12, 36, 50)\n",
        "\n",
        "# Trades\n",
        "\n",
        "OVERLAP = 4"
      ],
      "metadata": {
        "id": "Y2inPTsqfiBT"
      },
      "execution_count": 5,
      "outputs": []
    },
    {
      "cell_type": "markdown",
      "source": [
        "# Test Data"
      ],
      "metadata": {
        "id": "UqoB2C4qgZwl"
      }
    },
    {
      "cell_type": "code",
      "source": [
        "################################################################################\n",
        "#\n",
        "# Test Data\n",
        "\n",
        "def bwalk(min_val, max_val, std):\n",
        "    \"\"\"\n",
        "    simulate the random walk of stock price(or anything fluctuate in certain range),return a generator of cur_val\n",
        "    \"\"\"\n",
        "    avg=(max_val+min_val)/2\n",
        "    while True:\n",
        "        if min_val <= avg+normalvariate(0, std) <= max_val:\n",
        "            yield normalvariate(0, std)+avg\n",
        "\n",
        "# def market(t0=MARKET_OPEN):\n",
        "#     \"\"\" Generates a random series of market conditions,\n",
        "#         (time, price, spread).\n",
        "#         t0: present time\n",
        "#     \"\"\"\n",
        "#     for hours, px in zip(bwalk(*FREQ), bwalk(*PX)):\n",
        "#         t0 += timedelta(hours=abs(hours))\n",
        "#         spd=SPD(px=next(bwalk(*PX)),t0)\n",
        "#         yield t0, px, spd\n",
        "def market(t0=MARKET_OPEN,px0=next(bwalk(*PX))):\n",
        "    for t,px in zip(bwalk(*FREQ),bwalk(*PX)):\n",
        "        t_d=timedelta(hours=abs(t))\n",
        "        t0+=t_d\n",
        "        std=px-px0\n",
        "        # print(f'当前时间：{t}')\n",
        "        # print(f'时间过去了{t_d}小时')\n",
        "        # print(f'原价为{px0}元')\n",
        "        # print(f'当前价格为{px}元')\n",
        "        # print(f'价格范围是{std}')\n",
        "        yield t0,px,std\n",
        "        t0,px0=t0,px\n",
        "\n",
        "def orders(hist):\n",
        "    \"\"\" Generates a random set of limit orders (time, side, price, size) from\n",
        "        a series of market conditions.\n",
        "        side: 'buy' or 'sell',\n",
        "        stock: 'ABC' or 'DEF',\n",
        "        hist:market conditions,\n",
        "        d:+2(sell) or -2(buy),\n",
        "        mu:px + (spd / d)\n",
        "        sigma:spd / OVERLAP\n",
        "        order:the trade price\n",
        "    \"\"\"\n",
        "    for t, px, spd in hist:\n",
        "        stock = 'ABC' if random() > 0.5 else 'DEF'\n",
        "        #randomly choose buy or sell\n",
        "        side, d = ('sell', 2) if random() > 0.5 else ('buy', -2)\n",
        "        #generate random number and round to integer, 2 means keep two digits after decimal\n",
        "        order = round(normalvariate(px + (spd / d), spd / OVERLAP), 2)\n",
        "        #the number of stock which has been traded\n",
        "        size = int(abs(normalvariate(0, 100)))\n",
        "        yield t, stock, side, order, size\n"
      ],
      "metadata": {
        "id": "d8uj6ZLOfnkv"
      },
      "execution_count": 6,
      "outputs": []
    },
    {
      "cell_type": "markdown",
      "source": [
        "# CSV\n"
      ],
      "metadata": {
        "id": "p21kAmA2d66Z"
      }
    },
    {
      "cell_type": "code",
      "source": [
        "import math\n",
        "def generate_csv(flag=-1):#flag的取值为股票订单的数量,flag>-1时,生成flag条，默认flag=50;flag=-1时，不断生成无限条直到超出时间限制\n",
        "    \"\"\" Generate a CSV of order history. \"\"\"\n",
        "    if flag==-1:flag=math.inf\n",
        "\n",
        "    with open('test.csv', 'w',encoding='UTF-8') as f:\n",
        "        writer = csv.writer(f)\n",
        "        writer.writerow(['t', 'stock', 'side', 'order', 'size'])\n",
        "        n=0\n",
        "        for t, stock, side, order, size in orders(market()):\n",
        "          n+=1\n",
        "          if float(n)==float(flag):break\n",
        "          if t > MARKET_OPEN + SIM_LENGTH:\n",
        "            break\n",
        "          writer.writerow([t, stock, side, order, size])\n",
        "\n",
        "\n",
        "def read_csv():\n",
        "    \"\"\" Read a CSV or order history into a list. \"\"\"\n",
        "    with open('test.csv', 'r') as f:\n",
        "        reader=csv.reader(f)\n",
        "        for time, stock, side, order, size in reader:\n",
        "          try:\n",
        "            yield dateutil.parser.parse(time), stock, side, float(order), int(size)\n",
        "          except dateutil.parser.ParserError:pass\n",
        "\n",
        "\n"
      ],
      "metadata": {
        "id": "vC33lIjvkSHR"
      },
      "execution_count": 35,
      "outputs": []
    },
    {
      "cell_type": "code",
      "source": [
        "generate_csv(50)\n",
        "for i in read_csv():\n",
        "  print(i)\n"
      ],
      "metadata": {
        "id": "2I9qCKgtVb-b",
        "colab": {
          "base_uri": "https://localhost:8080/"
        },
        "outputId": "c11e3172-959c-4f03-84a7-ad4a5a620ce3"
      },
      "execution_count": 36,
      "outputs": [
        {
          "output_type": "stream",
          "name": "stdout",
          "text": [
            "(datetime.datetime(2024, 4, 15, 19, 34, 48, 177510), 'DEF', 'sell', 108.26, 37)\n",
            "(datetime.datetime(2024, 4, 17, 2, 41, 52, 750211), 'ABC', 'buy', 105.63, 10)\n",
            "(datetime.datetime(2024, 4, 17, 15, 39, 0, 967978), 'DEF', 'sell', 103.5, 88)\n",
            "(datetime.datetime(2024, 4, 18, 6, 42, 24, 907693), 'DEF', 'buy', 104.81, 112)\n",
            "(datetime.datetime(2024, 4, 22, 19, 51, 26, 833646), 'DEF', 'sell', 103.14, 81)\n",
            "(datetime.datetime(2024, 4, 23, 12, 49, 46, 878620), 'ABC', 'sell', 105.23, 6)\n",
            "(datetime.datetime(2024, 4, 23, 23, 1, 46, 87253), 'DEF', 'sell', 108.45, 128)\n",
            "(datetime.datetime(2024, 4, 26, 20, 8, 45, 377218), 'ABC', 'sell', 105.28, 32)\n",
            "(datetime.datetime(2024, 4, 27, 16, 8, 54, 403743), 'ABC', 'sell', 105.15, 147)\n",
            "(datetime.datetime(2024, 4, 28, 23, 41, 52, 567791), 'ABC', 'buy', 105.36, 74)\n",
            "(datetime.datetime(2024, 4, 30, 8, 25, 42, 955529), 'DEF', 'sell', 102.05, 2)\n",
            "(datetime.datetime(2024, 4, 30, 9, 35, 3, 452744), 'ABC', 'buy', 104.24, 241)\n",
            "(datetime.datetime(2024, 5, 1, 14, 9, 57, 441348), 'DEF', 'sell', 107.2, 60)\n",
            "(datetime.datetime(2024, 5, 4, 13, 27, 23, 674699), 'DEF', 'sell', 106.42, 41)\n",
            "(datetime.datetime(2024, 5, 4, 23, 0, 32, 258172), 'DEF', 'sell', 103.73, 170)\n",
            "(datetime.datetime(2024, 5, 6, 15, 33, 7, 875548), 'DEF', 'sell', 106.06, 81)\n",
            "(datetime.datetime(2024, 5, 10, 4, 31, 48, 693757), 'ABC', 'buy', 105.53, 48)\n",
            "(datetime.datetime(2024, 5, 10, 21, 44, 7, 961544), 'DEF', 'buy', 105.11, 39)\n",
            "(datetime.datetime(2024, 5, 12, 6, 0, 41, 703633), 'ABC', 'sell', 106.18, 21)\n",
            "(datetime.datetime(2024, 5, 13, 8, 25, 6, 735658), 'ABC', 'sell', 104.87, 78)\n",
            "(datetime.datetime(2024, 5, 14, 8, 49, 3, 265449), 'ABC', 'sell', 106.77, 57)\n",
            "(datetime.datetime(2024, 5, 15, 1, 44, 10, 834375), 'ABC', 'sell', 104.61, 46)\n",
            "(datetime.datetime(2024, 5, 18, 7, 56, 15, 605939), 'DEF', 'sell', 106.32, 226)\n",
            "(datetime.datetime(2024, 5, 21, 6, 24, 49, 886274), 'DEF', 'buy', 104.86, 109)\n",
            "(datetime.datetime(2024, 5, 25, 1, 19, 51, 515871), 'ABC', 'buy', 103.2, 156)\n",
            "(datetime.datetime(2024, 5, 26, 17, 44, 7, 678362), 'DEF', 'sell', 107.05, 182)\n",
            "(datetime.datetime(2024, 5, 27, 6, 45, 26, 543848), 'DEF', 'sell', 105.04, 86)\n",
            "(datetime.datetime(2024, 5, 27, 15, 47, 9, 888458), 'DEF', 'buy', 104.35, 140)\n",
            "(datetime.datetime(2024, 5, 28, 6, 10, 32, 638748), 'DEF', 'buy', 105.26, 84)\n",
            "(datetime.datetime(2024, 6, 1, 20, 12, 30, 610567), 'ABC', 'sell', 107.92, 116)\n",
            "(datetime.datetime(2024, 6, 2, 12, 11, 45, 880942), 'DEF', 'sell', 104.13, 144)\n",
            "(datetime.datetime(2024, 6, 5, 8, 18, 18, 598671), 'DEF', 'sell', 104.88, 28)\n",
            "(datetime.datetime(2024, 6, 9, 1, 33, 50, 594203), 'DEF', 'sell', 104.79, 87)\n",
            "(datetime.datetime(2024, 6, 9, 13, 9, 1, 303759), 'DEF', 'sell', 104.03, 257)\n",
            "(datetime.datetime(2024, 6, 10, 5, 28, 31, 459375), 'ABC', 'buy', 104.53, 26)\n",
            "(datetime.datetime(2024, 6, 11, 2, 33, 5, 291445), 'DEF', 'buy', 105.87, 126)\n",
            "(datetime.datetime(2024, 6, 11, 20, 14, 26, 356069), 'ABC', 'sell', 103.03, 64)\n",
            "(datetime.datetime(2024, 6, 16, 21, 2, 42, 147299), 'DEF', 'sell', 107.73, 14)\n",
            "(datetime.datetime(2024, 6, 18, 20, 3, 13, 787233), 'DEF', 'sell', 104.4, 90)\n",
            "(datetime.datetime(2024, 6, 19, 1, 27, 44, 168066), 'ABC', 'sell', 104.91, 125)\n",
            "(datetime.datetime(2024, 6, 22, 12, 11, 6, 457601), 'ABC', 'buy', 104.39, 146)\n",
            "(datetime.datetime(2024, 6, 25, 19, 10, 37, 752358), 'DEF', 'sell', 105.13, 27)\n",
            "(datetime.datetime(2024, 6, 28, 12, 3, 13, 960577), 'ABC', 'sell', 106.74, 137)\n",
            "(datetime.datetime(2024, 6, 30, 7, 13, 44, 83702), 'ABC', 'sell', 103.76, 100)\n",
            "(datetime.datetime(2024, 6, 30, 11, 23, 30, 608086), 'DEF', 'sell', 105.21, 108)\n",
            "(datetime.datetime(2024, 7, 2, 16, 23, 50, 947156), 'DEF', 'sell', 104.98, 92)\n",
            "(datetime.datetime(2024, 7, 5, 13, 33, 18, 127093), 'DEF', 'buy', 104.93, 126)\n",
            "(datetime.datetime(2024, 7, 8, 0, 33, 47, 259574), 'ABC', 'buy', 104.63, 137)\n",
            "(datetime.datetime(2024, 7, 10, 5, 38, 50, 368020), 'ABC', 'sell', 104.4, 59)\n"
          ]
        }
      ]
    },
    {
      "cell_type": "markdown",
      "source": [
        "\n",
        "\n"
      ],
      "metadata": {
        "id": "Ryb6FiK5TA_o"
      }
    }
  ],
  "metadata": {
    "colab": {
      "provenance": [],
      "toc_visible": true,
      "history_visible": true,
      "authorship_tag": "ABX9TyNnMklGo1HHxRgB2e+gzZPX",
      "include_colab_link": true
    },
    "kernelspec": {
      "display_name": "Python 3",
      "name": "python3"
    },
    "language_info": {
      "name": "python"
    }
  },
  "nbformat": 4,
  "nbformat_minor": 0
}