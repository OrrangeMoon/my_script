{
  "cells": [
    {
      "cell_type": "markdown",
      "metadata": {
        "colab_type": "text",
        "id": "view-in-github"
      },
      "source": [
        "<a href=\"https://colab.research.google.com/github/OrrangeMoon/my_script/blob/main/stock_pprice_curve_and_order.ipynb\" target=\"_parent\"><img src=\"https://colab.research.google.com/assets/colab-badge.svg\" alt=\"Open In Colab\"/></a>"
      ]
    },
    {
      "cell_type": "markdown",
      "metadata": {
        "id": "mBz9W0I5f2Tx"
      },
      "source": [
        "# READ\n"
      ]
    },
    {
      "cell_type": "code",
      "execution_count": 7,
      "metadata": {
        "id": "eUdvkb4QaDzj"
      },
      "outputs": [],
      "source": [
        "################################################################################\n",
        "\n",
        "\n",
        "import csv\n",
        "# from BaseHTTPServer import BaseHTTPRequestHandler,HTTPServer\n",
        "import http.server\n",
        "import json\n",
        "import operator\n",
        "import os.path\n",
        "import re\n",
        "import threading\n",
        "from datetime import timedelta, datetime\n",
        "# from itertools import izip\n",
        "from random import normalvariate, random\n",
        "from socketserver import ThreadingMixIn\n",
        "\n",
        "import dateutil.parser\n",
        "\n",
        "################################################################################\n",
        "#\n",
        "\n",
        "\n",
        "\n",
        "\n",
        "\n"
      ]
    },
    {
      "cell_type": "markdown",
      "metadata": {
        "id": "kroW8_JbgQX_"
      },
      "source": [
        "# Config"
      ]
    },
    {
      "cell_type": "code",
      "execution_count": 8,
      "metadata": {
        "id": "Y2inPTsqfiBT"
      },
      "outputs": [],
      "source": [
        "# Config\n",
        "\n",
        "# Sim params\n",
        "\n",
        "REALTIME = True\n",
        "SIM_LENGTH = timedelta(days=365 * 5)\n",
        "MARKET_OPEN = datetime.today().replace(hour=0, minute=30, second=0)\n",
        "\n",
        "# Market parms\n",
        "#       min  / max  / std\n",
        "#SPD = (2.0, 6.0, 0.1)\n",
        "PX = (60.0, 150.0, 1)\n",
        "FREQ = (12, 36, 50)\n",
        "\n",
        "# Trades\n",
        "\n",
        "OVERLAP = 4"
      ]
    },
    {
      "cell_type": "markdown",
      "metadata": {
        "id": "UqoB2C4qgZwl"
      },
      "source": [
        "# Test Data"
      ]
    },
    {
      "cell_type": "code",
      "execution_count": 9,
      "metadata": {
        "id": "d8uj6ZLOfnkv"
      },
      "outputs": [],
      "source": [
        "################################################################################\n",
        "#\n",
        "# Test Data\n",
        "\n",
        "def bwalk(min_val, max_val, std):\n",
        "    \"\"\"\n",
        "    simulate the random walk of stock price(or anything fluctuate in certain range),return a generator of cur_val\n",
        "    \"\"\"\n",
        "    avg=(max_val+min_val)/2\n",
        "    while True:\n",
        "        if min_val <= avg+normalvariate(0, std) <= max_val:\n",
        "            yield normalvariate(0, std)+avg\n",
        "\n",
        "# def market(t0=MARKET_OPEN):\n",
        "#     \"\"\" Generates a random series of market conditions,\n",
        "#         (time, price, spread).\n",
        "#         t0: present time\n",
        "#     \"\"\"\n",
        "#     for hours, px in zip(bwalk(*FREQ), bwalk(*PX)):\n",
        "#         t0 += timedelta(hours=abs(hours))\n",
        "#         spd=SPD(px=next(bwalk(*PX)),t0)\n",
        "#         yield t0, px, spd\n",
        "def market(t0=MARKET_OPEN,px0=next(bwalk(*PX))):\n",
        "    for t,px in zip(bwalk(*FREQ),bwalk(*PX)):\n",
        "        t_d=timedelta(hours=abs(t))\n",
        "        t0+=t_d\n",
        "        std=px-px0\n",
        "        # print(f'当前时间：{t}')\n",
        "        # print(f'时间过去了{t_d}小时')\n",
        "        # print(f'原价为{px0}元')\n",
        "        # print(f'当前价格为{px}元')\n",
        "        # print(f'价格范围是{std}')\n",
        "        yield t0,px,std\n",
        "        t0,px0=t0,px\n",
        "\n",
        "def orders(hist):\n",
        "    \"\"\" Generates a random set of limit orders (time, side, price, size) from\n",
        "        a series of market conditions.\n",
        "        side: 'buy' or 'sell',\n",
        "        stock: 'ABC' or 'DEF',\n",
        "        hist:market conditions,\n",
        "        d:+2(sell) or -2(buy),\n",
        "        mu:px + (spd / d)\n",
        "        sigma:spd / OVERLAP\n",
        "        order:the trade price\n",
        "    \"\"\"\n",
        "    for t, px, spd in hist:\n",
        "        stock = 'ABC' if random() > 0.5 else 'DEF'\n",
        "        #randomly choose buy or sell\n",
        "        side, d = ('sell', 2) if random() > 0.5 else ('buy', -2)\n",
        "        #generate random number and round to integer, 2 means keep two digits after decimal\n",
        "        order = round(normalvariate(px + (spd / d), spd / OVERLAP), 2)\n",
        "        #the number of stock which has been traded\n",
        "        size = int(abs(normalvariate(0, 100)))\n",
        "        yield t, stock, side, order, size\n"
      ]
    },
    {
      "cell_type": "markdown",
      "metadata": {
        "id": "p21kAmA2d66Z"
      },
      "source": [
        "# CSV\n"
      ]
    },
    {
      "cell_type": "code",
      "execution_count": 16,
      "metadata": {
        "id": "vC33lIjvkSHR"
      },
      "outputs": [],
      "source": [
        "import math\n",
        "def generate_csv(flag=-1):#flag的取值为股票订单的数量,flag>-1时,生成flag条，默认flag=50;flag=-1时，不断生成无限条直到超出时间限制\n",
        "    \"\"\" Generate a CSV of order history. \"\"\"\n",
        "    if flag==-1:flag=math.inf\n",
        "\n",
        "    with open('test.csv', 'w',encoding='UTF-8',newline='') as f:\n",
        "        writer = csv.writer(f)\n",
        "        #writer.writerow(['t', 'stock', 'side', 'order', 'size'])\n",
        "        n=0\n",
        "        for t, stock, side, order, size in orders(market()):\n",
        "          n+=1\n",
        "          if float(n)==float(flag):break\n",
        "          if t > MARKET_OPEN + SIM_LENGTH:\n",
        "            break\n",
        "          writer.writerow([t, stock, side, order, size])\n",
        "\n",
        "\n",
        "def read_csv():\n",
        "    \"\"\" Read a CSV or order history into a list. \"\"\"\n",
        "    with open('test.csv', 'r',newline='') as f:\n",
        "        sreader=csv.reader(f)\n",
        "        for row in sreader:\n",
        "            if len(row)==5:pass\n",
        "            else:continue\n",
        "            for time, stock, side, order, size in sreader:\n",
        "                try:\n",
        "                    yield dateutil.parser.parse(time), stock, side, float(order), int(size)\n",
        "                except dateutil.parser.ParserError:pass\n",
        "\n",
        "\n"
      ]
    },
    {
      "cell_type": "code",
      "execution_count": 18,
      "metadata": {
        "colab": {
          "base_uri": "https://localhost:8080/"
        },
        "id": "2I9qCKgtVb-b",
        "outputId": "c11e3172-959c-4f03-84a7-ad4a5a620ce3"
      },
      "outputs": [],
      "source": [
        "\n",
        "generate_csv(100)\n"
      ]
    },
    {
      "cell_type": "code",
      "execution_count": 19,
      "metadata": {},
      "outputs": [
        {
          "name": "stdout",
          "output_type": "stream",
          "text": [
            "(datetime.datetime(2024, 4, 26, 15, 47, 28, 522203), 'ABC', 'buy', 106.51, 46)\n",
            "(datetime.datetime(2024, 4, 30, 23, 21, 31, 996511), 'DEF', 'sell', 102.73, 57)\n",
            "(datetime.datetime(2024, 5, 2, 15, 56, 36, 965481), 'ABC', 'sell', 104.53, 72)\n",
            "(datetime.datetime(2024, 5, 4, 15, 17, 57, 253941), 'ABC', 'buy', 105.19, 13)\n",
            "(datetime.datetime(2024, 5, 6, 4, 2, 38, 437661), 'ABC', 'sell', 104.58, 66)\n",
            "(datetime.datetime(2024, 5, 6, 7, 35, 5, 83937), 'DEF', 'sell', 104.84, 66)\n",
            "(datetime.datetime(2024, 5, 8, 14, 15, 54, 974290), 'DEF', 'sell', 105.91, 13)\n",
            "(datetime.datetime(2024, 5, 12, 17, 31, 53, 53763), 'ABC', 'sell', 106.61, 120)\n",
            "(datetime.datetime(2024, 5, 16, 1, 43, 55, 342796), 'DEF', 'sell', 105.26, 179)\n",
            "(datetime.datetime(2024, 5, 18, 18, 21, 43, 641621), 'ABC', 'sell', 104.2, 192)\n",
            "(datetime.datetime(2024, 5, 20, 1, 8, 48, 319117), 'ABC', 'buy', 104.8, 137)\n",
            "(datetime.datetime(2024, 5, 22, 23, 9, 11, 587046), 'ABC', 'buy', 104.57, 21)\n",
            "(datetime.datetime(2024, 5, 23, 0, 5, 51, 258659), 'DEF', 'buy', 103.98, 59)\n",
            "(datetime.datetime(2024, 5, 26, 14, 55, 37, 950890), 'DEF', 'buy', 104.72, 13)\n",
            "(datetime.datetime(2024, 5, 29, 7, 27, 6, 559896), 'ABC', 'buy', 104.96, 108)\n",
            "(datetime.datetime(2024, 5, 30, 13, 59, 33, 747466), 'DEF', 'sell', 104.58, 62)\n",
            "(datetime.datetime(2024, 6, 1, 2, 3, 8, 594071), 'ABC', 'buy', 104.64, 52)\n",
            "(datetime.datetime(2024, 6, 2, 2, 23, 4, 802051), 'DEF', 'sell', 102.79, 3)\n",
            "(datetime.datetime(2024, 6, 4, 0, 48, 17, 898552), 'DEF', 'sell', 106.67, 76)\n",
            "(datetime.datetime(2024, 6, 7, 15, 14, 3, 297030), 'ABC', 'buy', 103.63, 41)\n",
            "(datetime.datetime(2024, 6, 11, 15, 28, 54, 255602), 'DEF', 'sell', 107.01, 22)\n",
            "(datetime.datetime(2024, 6, 14, 14, 32, 58, 42513), 'ABC', 'buy', 105.05, 9)\n",
            "(datetime.datetime(2024, 6, 15, 21, 36, 31, 812743), 'ABC', 'sell', 104.98, 53)\n",
            "(datetime.datetime(2024, 6, 18, 2, 29, 23, 188344), 'ABC', 'buy', 106.54, 67)\n",
            "(datetime.datetime(2024, 6, 20, 8, 54, 21, 296381), 'ABC', 'buy', 105.89, 118)\n",
            "(datetime.datetime(2024, 6, 23, 6, 0, 18, 805202), 'DEF', 'sell', 106.21, 34)\n",
            "(datetime.datetime(2024, 6, 24, 20, 7, 49, 967479), 'ABC', 'buy', 105.57, 14)\n",
            "(datetime.datetime(2024, 6, 26, 0, 14, 42, 333721), 'ABC', 'sell', 105.65, 24)\n",
            "(datetime.datetime(2024, 6, 26, 11, 51, 57, 897357), 'ABC', 'buy', 104.66, 9)\n",
            "(datetime.datetime(2024, 6, 26, 14, 9, 49, 873678), 'ABC', 'sell', 107.38, 66)\n",
            "(datetime.datetime(2024, 6, 27, 6, 52, 24, 86956), 'DEF', 'buy', 104.21, 32)\n",
            "(datetime.datetime(2024, 6, 27, 7, 20, 39, 671785), 'ABC', 'buy', 104.59, 63)\n",
            "(datetime.datetime(2024, 6, 28, 9, 19, 29, 773286), 'ABC', 'sell', 105.32, 11)\n",
            "(datetime.datetime(2024, 6, 30, 15, 29, 19, 240527), 'DEF', 'sell', 104.9, 115)\n",
            "(datetime.datetime(2024, 7, 3, 1, 19, 10, 690288), 'ABC', 'sell', 106.4, 39)\n",
            "(datetime.datetime(2024, 7, 6, 14, 37, 28, 815269), 'ABC', 'sell', 103.91, 37)\n",
            "(datetime.datetime(2024, 7, 9, 8, 24, 52, 660420), 'ABC', 'buy', 105.46, 65)\n",
            "(datetime.datetime(2024, 7, 10, 0, 53, 57, 396652), 'DEF', 'sell', 103.47, 7)\n",
            "(datetime.datetime(2024, 7, 12, 22, 45, 52, 94004), 'DEF', 'buy', 104.06, 109)\n",
            "(datetime.datetime(2024, 7, 14, 12, 57, 12, 153589), 'DEF', 'buy', 103.98, 26)\n",
            "(datetime.datetime(2024, 7, 16, 18, 52, 35, 932068), 'DEF', 'buy', 105.28, 173)\n",
            "(datetime.datetime(2024, 7, 17, 3, 17, 40, 323914), 'DEF', 'sell', 103.96, 63)\n",
            "(datetime.datetime(2024, 7, 18, 13, 56, 43, 944679), 'ABC', 'sell', 106.78, 190)\n",
            "(datetime.datetime(2024, 7, 19, 13, 0, 43, 546699), 'DEF', 'buy', 104.86, 90)\n",
            "(datetime.datetime(2024, 7, 22, 0, 23, 35, 278891), 'ABC', 'sell', 105.02, 77)\n",
            "(datetime.datetime(2024, 7, 24, 3, 27, 52, 984296), 'ABC', 'buy', 104.18, 17)\n",
            "(datetime.datetime(2024, 7, 24, 14, 22, 32, 774589), 'ABC', 'sell', 104.69, 121)\n",
            "(datetime.datetime(2024, 7, 28, 9, 49, 57, 624507), 'DEF', 'buy', 104.91, 15)\n",
            "(datetime.datetime(2024, 7, 28, 11, 34, 25, 942130), 'DEF', 'sell', 102.48, 13)\n",
            "(datetime.datetime(2024, 7, 28, 18, 6, 40, 655639), 'DEF', 'buy', 104.5, 17)\n",
            "(datetime.datetime(2024, 7, 29, 3, 14, 31, 605416), 'ABC', 'sell', 103.53, 218)\n",
            "(datetime.datetime(2024, 7, 30, 21, 55, 24, 909485), 'ABC', 'buy', 105.19, 113)\n",
            "(datetime.datetime(2024, 8, 3, 22, 2, 45, 774739), 'DEF', 'buy', 105.68, 5)\n",
            "(datetime.datetime(2024, 8, 4, 3, 54, 59, 585180), 'ABC', 'sell', 104.02, 112)\n",
            "(datetime.datetime(2024, 8, 5, 1, 35, 41, 456366), 'ABC', 'sell', 105.49, 106)\n",
            "(datetime.datetime(2024, 8, 5, 18, 49, 54, 708313), 'DEF', 'buy', 105.01, 118)\n",
            "(datetime.datetime(2024, 8, 8, 10, 49, 13, 278461), 'ABC', 'sell', 101.43, 21)\n",
            "(datetime.datetime(2024, 8, 8, 17, 44, 50, 274129), 'DEF', 'sell', 104.69, 31)\n",
            "(datetime.datetime(2024, 8, 9, 9, 22, 18, 963072), 'DEF', 'sell', 105.87, 38)\n",
            "(datetime.datetime(2024, 8, 12, 1, 23, 14, 607960), 'ABC', 'sell', 102.69, 131)\n",
            "(datetime.datetime(2024, 8, 16, 8, 56, 45, 903847), 'ABC', 'sell', 105.92, 40)\n",
            "(datetime.datetime(2024, 8, 21, 21, 44, 36, 157038), 'DEF', 'sell', 104.97, 47)\n",
            "(datetime.datetime(2024, 8, 25, 5, 26, 47, 148135), 'ABC', 'buy', 104.27, 114)\n",
            "(datetime.datetime(2024, 8, 30, 8, 42, 21, 930464), 'DEF', 'buy', 103.61, 148)\n",
            "(datetime.datetime(2024, 9, 1, 22, 19, 37, 765461), 'ABC', 'sell', 104.67, 64)\n",
            "(datetime.datetime(2024, 9, 5, 15, 36, 54, 635945), 'DEF', 'sell', 103.82, 27)\n",
            "(datetime.datetime(2024, 9, 5, 22, 23, 10, 310381), 'DEF', 'buy', 104.48, 73)\n",
            "(datetime.datetime(2024, 9, 8, 20, 56, 42, 395717), 'ABC', 'buy', 104.09, 24)\n",
            "(datetime.datetime(2024, 9, 10, 17, 12, 44, 666451), 'DEF', 'buy', 105.26, 155)\n",
            "(datetime.datetime(2024, 9, 11, 22, 22, 53, 220154), 'ABC', 'sell', 103.49, 49)\n",
            "(datetime.datetime(2024, 9, 15, 14, 55, 51, 847893), 'DEF', 'buy', 106.35, 133)\n",
            "(datetime.datetime(2024, 9, 17, 4, 57, 57, 687575), 'DEF', 'sell', 105.88, 30)\n",
            "(datetime.datetime(2024, 9, 18, 20, 2, 29, 1587), 'DEF', 'sell', 101.01, 12)\n",
            "(datetime.datetime(2024, 9, 21, 18, 17, 20, 739720), 'ABC', 'buy', 104.19, 5)\n",
            "(datetime.datetime(2024, 9, 23, 5, 45, 10, 195887), 'DEF', 'buy', 106.15, 124)\n",
            "(datetime.datetime(2024, 9, 24, 20, 59, 3, 960327), 'ABC', 'sell', 105.26, 25)\n",
            "(datetime.datetime(2024, 9, 26, 13, 24, 6, 472024), 'ABC', 'sell', 106.15, 49)\n",
            "(datetime.datetime(2024, 9, 30, 1, 4, 46, 10944), 'ABC', 'buy', 104.96, 105)\n",
            "(datetime.datetime(2024, 9, 30, 18, 2, 20, 10452), 'ABC', 'sell', 105.47, 33)\n",
            "(datetime.datetime(2024, 9, 30, 18, 10, 59, 476611), 'ABC', 'buy', 104.76, 116)\n",
            "(datetime.datetime(2024, 10, 1, 18, 7, 5, 598044), 'ABC', 'sell', 101.83, 50)\n",
            "(datetime.datetime(2024, 10, 2, 21, 53, 49, 58107), 'DEF', 'buy', 104.02, 11)\n",
            "(datetime.datetime(2024, 10, 3, 21, 54, 9, 849422), 'ABC', 'sell', 104.82, 110)\n",
            "(datetime.datetime(2024, 10, 6, 17, 1, 44, 614218), 'DEF', 'buy', 104.83, 117)\n",
            "(datetime.datetime(2024, 10, 10, 2, 31, 57, 822997), 'ABC', 'sell', 104.55, 243)\n",
            "(datetime.datetime(2024, 10, 14, 9, 47, 47, 207701), 'ABC', 'sell', 106.95, 136)\n",
            "(datetime.datetime(2024, 10, 14, 13, 10, 50, 273659), 'DEF', 'sell', 103.13, 40)\n",
            "(datetime.datetime(2024, 10, 14, 20, 24, 26, 999490), 'ABC', 'buy', 104.91, 3)\n",
            "(datetime.datetime(2024, 10, 14, 22, 14, 44, 167294), 'ABC', 'sell', 107.32, 154)\n",
            "(datetime.datetime(2024, 10, 15, 7, 15, 16, 930711), 'DEF', 'sell', 102.56, 50)\n",
            "(datetime.datetime(2024, 10, 16, 6, 8, 3, 610273), 'DEF', 'buy', 104.92, 45)\n",
            "(datetime.datetime(2024, 10, 18, 13, 1, 20, 581563), 'DEF', 'sell', 102.09, 9)\n",
            "(datetime.datetime(2024, 10, 18, 22, 8, 38, 371344), 'ABC', 'buy', 105.2, 22)\n",
            "(datetime.datetime(2024, 10, 18, 22, 38, 28, 927356), 'DEF', 'buy', 106.5, 88)\n",
            "(datetime.datetime(2024, 10, 22, 1, 34, 31, 603321), 'DEF', 'buy', 104.67, 46)\n",
            "(datetime.datetime(2024, 10, 23, 5, 36, 32, 757729), 'DEF', 'sell', 104.93, 151)\n",
            "(datetime.datetime(2024, 10, 25, 16, 44, 35, 120810), 'DEF', 'buy', 104.97, 92)\n",
            "(datetime.datetime(2024, 10, 26, 10, 44, 45, 737188), 'ABC', 'buy', 104.92, 1)\n"
          ]
        }
      ],
      "source": [
        "for i in read_csv():\n",
        "    print(i)"
      ]
    },
    {
      "cell_type": "code",
      "execution_count": null,
      "metadata": {},
      "outputs": [],
      "source": []
    },
    {
      "cell_type": "markdown",
      "metadata": {
        "id": "Ryb6FiK5TA_o"
      },
      "source": [
        "\n",
        "\n"
      ]
    }
  ],
  "metadata": {
    "colab": {
      "authorship_tag": "ABX9TyNnMklGo1HHxRgB2e+gzZPX",
      "history_visible": true,
      "include_colab_link": true,
      "provenance": [],
      "toc_visible": true
    },
    "kernelspec": {
      "display_name": "Python 3",
      "name": "python3"
    },
    "language_info": {
      "codemirror_mode": {
        "name": "ipython",
        "version": 3
      },
      "file_extension": ".py",
      "mimetype": "text/x-python",
      "name": "python",
      "nbconvert_exporter": "python",
      "pygments_lexer": "ipython3",
      "version": "3.12.1"
    }
  },
  "nbformat": 4,
  "nbformat_minor": 0
}
