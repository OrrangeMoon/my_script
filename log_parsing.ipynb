{
  "cells": [
    {
      "cell_type": "markdown",
      "metadata": {
        "colab_type": "text",
        "id": "view-in-github"
      },
      "source": [
        "<a href=\"https://colab.research.google.com/github/OrrangeMoon/my_script/blob/main/Untitled4.ipynb\" target=\"_parent\"><img src=\"https://colab.research.google.com/assets/colab-badge.svg\" alt=\"Open In Colab\"/></a>"
      ]
    },
    {
      "cell_type": "code",
      "execution_count": 1,
      "metadata": {
        "id": "SyPcrhdr9wdZ"
      },
      "outputs": [
        {
          "ename": "OSError",
          "evalue": "[Errno 22] Invalid argument: '--f=c:\\\\Users\\\\littlepig\\\\AppData\\\\Roaming\\\\jupyter\\\\runtime\\\\kernel-v2-22792Pq3How3jjgAf.json'",
          "output_type": "error",
          "traceback": [
            "\u001b[1;31m---------------------------------------------------------------------------\u001b[0m",
            "\u001b[1;31mOSError\u001b[0m                                   Traceback (most recent call last)",
            "Cell \u001b[1;32mIn[1], line 68\u001b[0m\n\u001b[0;32m     66\u001b[0m pattern\u001b[38;5;241m=\u001b[39m\u001b[38;5;124mr\u001b[39m\u001b[38;5;124m'\u001b[39m\u001b[38;5;124m.*(ERROR|INFO) (.*)\u001b[39m\u001b[38;5;124m\\\u001b[39m\u001b[38;5;124m((.*)\u001b[39m\u001b[38;5;124m\\\u001b[39m\u001b[38;5;124m)\u001b[39m\u001b[38;5;124m'\u001b[39m       \u001b[38;5;66;03m#正则表达式设置\u001b[39;00m\n\u001b[0;32m     67\u001b[0m log_file\u001b[38;5;241m=\u001b[39msys\u001b[38;5;241m.\u001b[39margv[\u001b[38;5;241m1\u001b[39m]            \u001b[38;5;66;03m#获取交互的log文件作为参数\u001b[39;00m\n\u001b[1;32m---> 68\u001b[0m \u001b[38;5;28;01mfor\u001b[39;00m log \u001b[38;5;129;01min\u001b[39;00m \u001b[38;5;28;43mopen\u001b[39;49m\u001b[43m(\u001b[49m\u001b[43mlog_file\u001b[49m\u001b[43m)\u001b[49m:          \u001b[38;5;66;03m#逐行读取并解析为dict\u001b[39;00m\n\u001b[0;32m     69\u001b[0m     log_process(log)\n\u001b[0;32m     70\u001b[0m process(ERROR_dict,INFO_dict)           \u001b[38;5;66;03m#输出csv\u001b[39;00m\n",
            "File \u001b[1;32m~\\AppData\\Roaming\\Python\\Python312\\site-packages\\IPython\\core\\interactiveshell.py:324\u001b[0m, in \u001b[0;36m_modified_open\u001b[1;34m(file, *args, **kwargs)\u001b[0m\n\u001b[0;32m    317\u001b[0m \u001b[38;5;28;01mif\u001b[39;00m file \u001b[38;5;129;01min\u001b[39;00m {\u001b[38;5;241m0\u001b[39m, \u001b[38;5;241m1\u001b[39m, \u001b[38;5;241m2\u001b[39m}:\n\u001b[0;32m    318\u001b[0m     \u001b[38;5;28;01mraise\u001b[39;00m \u001b[38;5;167;01mValueError\u001b[39;00m(\n\u001b[0;32m    319\u001b[0m         \u001b[38;5;124mf\u001b[39m\u001b[38;5;124m\"\u001b[39m\u001b[38;5;124mIPython won\u001b[39m\u001b[38;5;124m'\u001b[39m\u001b[38;5;124mt let you open fd=\u001b[39m\u001b[38;5;132;01m{\u001b[39;00mfile\u001b[38;5;132;01m}\u001b[39;00m\u001b[38;5;124m by default \u001b[39m\u001b[38;5;124m\"\u001b[39m\n\u001b[0;32m    320\u001b[0m         \u001b[38;5;124m\"\u001b[39m\u001b[38;5;124mas it is likely to crash IPython. If you know what you are doing, \u001b[39m\u001b[38;5;124m\"\u001b[39m\n\u001b[0;32m    321\u001b[0m         \u001b[38;5;124m\"\u001b[39m\u001b[38;5;124myou can use builtins\u001b[39m\u001b[38;5;124m'\u001b[39m\u001b[38;5;124m open.\u001b[39m\u001b[38;5;124m\"\u001b[39m\n\u001b[0;32m    322\u001b[0m     )\n\u001b[1;32m--> 324\u001b[0m \u001b[38;5;28;01mreturn\u001b[39;00m \u001b[43mio_open\u001b[49m\u001b[43m(\u001b[49m\u001b[43mfile\u001b[49m\u001b[43m,\u001b[49m\u001b[43m \u001b[49m\u001b[38;5;241;43m*\u001b[39;49m\u001b[43margs\u001b[49m\u001b[43m,\u001b[49m\u001b[43m \u001b[49m\u001b[38;5;241;43m*\u001b[39;49m\u001b[38;5;241;43m*\u001b[39;49m\u001b[43mkwargs\u001b[49m\u001b[43m)\u001b[49m\n",
            "\u001b[1;31mOSError\u001b[0m: [Errno 22] Invalid argument: '--f=c:\\\\Users\\\\littlepig\\\\AppData\\\\Roaming\\\\jupyter\\\\runtime\\\\kernel-v2-22792Pq3How3jjgAf.json'"
          ]
        }
      ],
      "source": [
        "#!/usr/bin/env python3\n",
        "import sys\n",
        "import re\n",
        "import os\n",
        "import csv\n",
        "\n",
        "#log='Jan 31 11:31:34 ubuntu.local tricky: ERROR Permission denied while closing ticket (ahmed.miller)'\n",
        "#pattern=r'.*(ERROR|INFO) (.*)\\((.*)\\)'\n",
        "#bashcmd为./syslog_parsing.py logfile，脚本与数据在同一目录下\n",
        "\n",
        "\n",
        "def log_process(log):\n",
        "    '''\n",
        "    log:单条log数据\n",
        "    '''\n",
        "    result=re.findall(pattern,log)\n",
        "    type,content,username=result[0]\n",
        "    if type=='ERROR':\n",
        "        ERROR_dict[content] = ERROR_dict.get(content, 0) + 1\n",
        "        INFO_dict[username]=(INFO_dict.get(username,(0,0))[0],INFO_dict.get(username,(0,0))[1]+1)\n",
        "    else:#INFO (0为消息数，1为错误数）\n",
        "        INFO_dict[username]=(INFO_dict.get(username,(0,0))[0]+1,INFO_dict.get(username,(0,0))[1])\n",
        "    return\n",
        "\n",
        "\n",
        "def SORT_dict(ERROR_dict,INFO_dict):\n",
        "    '''\n",
        "    ERROR_dict:未排序的ERROR_dict\n",
        "    INFO_dict:未排序的INFO_dict\n",
        "    '''\n",
        "    ERROR_dict=sorted(ERROR_dict.items(),key=lambda x:x[1],reverse=True)\n",
        "    INFO_dict=sorted(INFO_dict.items(),reverse=False)\n",
        "    return ERROR_dict,INFO_dict\n",
        "\n",
        "\n",
        "def process(SORT_dict,ERROR_dict,INFO_dict):\n",
        "    '''\n",
        "    SORT_dict:排序函数，传入ERROR_dict和INFO_dict，返回排序后的ERROR_dict和INFO_dict\n",
        "    对排序后的ERROR_dict和INFO_dict进行写入\n",
        "    '''\n",
        "    INFO_dict,ERROR_dict=SORT_dict(ERROR_dict,INFO_dict)\n",
        "\n",
        "    #INFO报告写入csv\n",
        "    writer=csv.writer(open('user_statistics.csv','a'))\n",
        "    writer.writerow(['Username','INFO','ERROR'])\n",
        "    for key,value in INFO_dict:\n",
        "        i=(key,value[0],value[1])\n",
        "        writer.writerow(i)\n",
        "\n",
        "    #ERROR报告写入csv\n",
        "    writer_2=csv.writer(open('error_message.csv','a'))\n",
        "    writer.writerow(['Error','Count'])\n",
        "    for type,count in ERROR_dict.items():\n",
        "        j=(type,count)\n",
        "        writer_2.writerow(j)\n",
        "\n",
        "\n",
        "# ERROR_dict={}\n",
        "# INFO_dict={}\n",
        "# pattern=r'.*(ERROR|INFO) (.*)\\((.*)\\)'\n",
        "\n",
        "#main\n",
        "if __name__==\"__main__\":\n",
        "    ERROR_dict={}\n",
        "    INFO_dict={}\n",
        "    pattern=r'.*(ERROR|INFO) (.*)\\((.*)\\)'       #正则表达式设置\n",
        "    log_file=sys.argv[1]            #获取交互的log文件作为参数\n",
        "    for log in open(log_file):          #逐行读取并解析为dict\n",
        "        log_process(log)\n",
        "    process(ERROR_dict,INFO_dict)           #输出csv\n",
        "    print('Done!')\n",
        "\n",
        "\n",
        "\n",
        "\n",
        "\n"
      ]
    }
  ],
  "metadata": {
    "colab": {
      "authorship_tag": "ABX9TyPDPs/g97fkLvRgHucWt0YH",
      "include_colab_link": true,
      "provenance": []
    },
    "kernelspec": {
      "display_name": "Python 3",
      "name": "python3"
    },
    "language_info": {
      "codemirror_mode": {
        "name": "ipython",
        "version": 3
      },
      "file_extension": ".py",
      "mimetype": "text/x-python",
      "name": "python",
      "nbconvert_exporter": "python",
      "pygments_lexer": "ipython3",
      "version": "3.12.1"
    }
  },
  "nbformat": 4,
  "nbformat_minor": 0
}
