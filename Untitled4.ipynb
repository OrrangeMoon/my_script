{
  "nbformat": 4,
  "nbformat_minor": 0,
  "metadata": {
    "colab": {
      "provenance": [],
      "authorship_tag": "ABX9TyPDPs/g97fkLvRgHucWt0YH",
      "include_colab_link": true
    },
    "kernelspec": {
      "name": "python3",
      "display_name": "Python 3"
    },
    "language_info": {
      "name": "python"
    }
  },
  "cells": [
    {
      "cell_type": "markdown",
      "metadata": {
        "id": "view-in-github",
        "colab_type": "text"
      },
      "source": [
        "<a href=\"https://colab.research.google.com/github/OrrangeMoon/my_script/blob/main/Untitled4.ipynb\" target=\"_parent\"><img src=\"https://colab.research.google.com/assets/colab-badge.svg\" alt=\"Open In Colab\"/></a>"
      ]
    },
    {
      "cell_type": "code",
      "execution_count": null,
      "metadata": {
        "id": "SyPcrhdr9wdZ"
      },
      "outputs": [],
      "source": [
        "#!/usr/bin/env python3\n",
        "import sys\n",
        "import re\n",
        "import os\n",
        "import csv\n",
        "\n",
        "#log='Jan 31 11:31:34 ubuntu.local ticky: ERROR Permission denied while closing ticket (ahmed.miller)'\n",
        "#pattern=r'.*(ERROR|INFO) (.*)\\((.*)\\)'\n",
        "#bashcmd为./sysylog_parsing.py logfile，脚本与数据在同一目录下\n",
        "\n",
        "\n",
        "def log_process(log):\n",
        "    '''\n",
        "    log:单条log数据\n",
        "    '''\n",
        "    result=re.findall(pattern,log)\n",
        "    type,content,username=result[0]\n",
        "    if type=='ERROR':\n",
        "        ERROR_dict[content] = ERROR_dict.get(content, 0) + 1\n",
        "        INFO_dict[username]=(INFO_dict.get(username,(0,0))[0],INFO_dict.get(username,(0,0))[1]+1)\n",
        "    else:#INFO (0为消息数，1为错误数）\n",
        "        INFO_dict[username]=(INFO_dict.get(username,(0,0))[0]+1,INFO_dict.get(username,(0,0))[1])\n",
        "    return\n",
        "\n",
        "\n",
        "def SORT_dict(ERROR_dict,INFO_dict):\n",
        "    '''\n",
        "    ERROR_dict:未排序的ERROR_dict\n",
        "    INFO_dict:未排序的INFO_dict\n",
        "    '''\n",
        "    ERROR_dict=sorted(ERROR_dict.items(),key=lambda x:x[1],reverse=True)\n",
        "    INFO_dict=sorted(INFO_dict.items(),reverse=False)\n",
        "    return ERROR_dict,INFO_dict\n",
        "\n",
        "\n",
        "def process(SORT_dict,ERROR_dict,INFO_dict):\n",
        "    '''\n",
        "    SORT_dict:排序函数，传入ERROR_dict和INFO_dict，返回排序后的ERROR_dict和INFO_dict\n",
        "    对排序后的ERROR_dict和INFO_dict进行写入\n",
        "    '''\n",
        "    INFO_dict,ERROR_dict=SORT_dict(ERROR_dict,INFO_dict)\n",
        "\n",
        "    #INFO报告写入csv\n",
        "    writer=csv.writer(open('user_statistics.csv','a'))\n",
        "    writer.writerow(['Username','INFO','ERROR'])\n",
        "    for key,value in INFO_dict:\n",
        "        i=(key,value[0],value[1])\n",
        "        writer.writerow(i)\n",
        "\n",
        "    #ERROR报告写入csv\n",
        "    writer_2=csv.writer(open('error_message.csv','a'))\n",
        "    writer.writerow(['Error','Count'])\n",
        "    for type,count in ERROR_dict.items():\n",
        "        j=(type,count)\n",
        "        writer_2.writerow(j)\n",
        "\n",
        "\n",
        "# ERROR_dict={}\n",
        "# INFO_dict={}\n",
        "# pattern=r'.*(ERROR|INFO) (.*)\\((.*)\\)'\n",
        "\n",
        "#main\n",
        "if __name__==\"__main__\":\n",
        "    ERROR_dict={}\n",
        "    INFO_dict={}\n",
        "    pattern=r'.*(ERROR|INFO) (.*)\\((.*)\\)'       #正则表达式设置\n",
        "    log_file=sys.argv[1]            #获取交互的log文件作为参数\n",
        "    for log in open(log_file):          #逐行读取并解析为dict\n",
        "        log_process(log)\n",
        "    process(ERROR_dict,INFO_dict)           #输出csv\n",
        "    print('Done!')\n",
        "\n",
        "\n",
        "\n",
        "\n",
        "\n"
      ]
    }
  ]
}